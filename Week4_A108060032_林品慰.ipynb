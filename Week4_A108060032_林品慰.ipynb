{
  "nbformat": 4,
  "nbformat_minor": 0,
  "metadata": {
    "colab": {
      "name": "Week4-A108060032-林品慰.ipynb",
      "provenance": [],
      "authorship_tag": "ABX9TyNgy+cUJ52XaUilJQcHp1v3",
      "include_colab_link": true
    },
    "kernelspec": {
      "name": "python3",
      "display_name": "Python 3"
    }
  },
  "cells": [
    {
      "cell_type": "markdown",
      "metadata": {
        "id": "view-in-github",
        "colab_type": "text"
      },
      "source": [
        "<a href=\"https://colab.research.google.com/github/pinwei67/computational-thinking-and-program-design/blob/master/Week4_A108060032_%E6%9E%97%E5%93%81%E6%85%B0.ipynb\" target=\"_parent\"><img src=\"https://colab.research.google.com/assets/colab-badge.svg\" alt=\"Open In Colab\"/></a>"
      ]
    },
    {
      "cell_type": "code",
      "metadata": {
        "id": "sAz0of42iGCe",
        "colab_type": "code",
        "colab": {}
      },
      "source": [
        ""
      ],
      "execution_count": 0,
      "outputs": []
    },
    {
      "cell_type": "code",
      "metadata": {
        "id": "ijUsqFoejrFc",
        "colab_type": "code",
        "colab": {
          "base_uri": "https://localhost:8080/",
          "height": 52
        },
        "outputId": "7badba46-9f8b-4d1f-a567-21b4416e4991"
      },
      "source": [
        "print(\"Hello  World\")\n",
        "print(1+1)\n"
      ],
      "execution_count": 2,
      "outputs": [
        {
          "output_type": "stream",
          "text": [
            "Hello  World\n",
            "2\n"
          ],
          "name": "stdout"
        }
      ]
    }
  ]
}