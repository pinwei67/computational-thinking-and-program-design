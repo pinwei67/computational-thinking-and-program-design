{
  "nbformat": 4,
  "nbformat_minor": 0,
  "metadata": {
    "colab": {
      "name": "Copy of Copy of Copy of Week4-A108060032-林品慰.ipynb",
      "provenance": [],
      "include_colab_link": true
    },
    "kernelspec": {
      "name": "python3",
      "display_name": "Python 3"
    }
  },
  "cells": [
    {
      "cell_type": "markdown",
      "metadata": {
        "id": "view-in-github",
        "colab_type": "text"
      },
      "source": [
        "<a href=\"https://colab.research.google.com/github/pinwei67/computational-thinking-and-program-design/blob/master/Copy_of_Copy_of_Copy_of_Week4_A108060032_%E6%9E%97%E5%93%81%E6%85%B0.ipynb\" target=\"_parent\"><img src=\"https://colab.research.google.com/assets/colab-badge.svg\" alt=\"Open In Colab\"/></a>"
      ]
    },
    {
      "cell_type": "code",
      "metadata": {
        "id": "ijUsqFoejrFc",
        "colab_type": "code",
        "outputId": "7badba46-9f8b-4d1f-a567-21b4416e4991",
        "colab": {
          "base_uri": "https://localhost:8080/",
          "height": 52
        }
      },
      "source": [
        "print(\"Hello  World\")\n",
        "print(1+1)\n"
      ],
      "execution_count": 0,
      "outputs": [
        {
          "output_type": "stream",
          "text": [
            "Hello  World\n",
            "2\n"
          ],
          "name": "stdout"
        }
      ]
    },
    {
      "cell_type": "code",
      "metadata": {
        "id": "sAz0of42iGCe",
        "colab_type": "code",
        "outputId": "df9d1586-0c7a-47ae-b586-eb9dab06548e",
        "colab": {
          "base_uri": "https://localhost:8080/",
          "height": 34
        }
      },
      "source": [
        "print(\"A108060052 余青蓉\")"
      ],
      "execution_count": 0,
      "outputs": [
        {
          "output_type": "stream",
          "text": [
            "A108060052 余青蓉\n"
          ],
          "name": "stdout"
        }
      ]
    }
  ]
}